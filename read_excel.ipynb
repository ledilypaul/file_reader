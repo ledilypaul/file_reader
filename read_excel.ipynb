{
 "cells": [
  {
   "cell_type": "markdown",
   "metadata": {},
   "source": [
    "This notebook is here to find the most optimized way to open an Excel file \n",
    "We assume that we have an excel file with a single page."
   ]
  },
  {
   "cell_type": "code",
   "execution_count": 1,
   "metadata": {},
   "outputs": [],
   "source": [
    "import pandas as pd\n",
    "from measure_times import measure_time\n",
    "from openpyxl import load_workbook\n",
    "# import tablib\n",
    "# import duckdb\n",
    "from python_calamine import CalamineWorkbook\n"
   ]
  },
  {
   "cell_type": "code",
   "execution_count": 2,
   "metadata": {},
   "outputs": [
    {
     "name": "stdout",
     "output_type": "stream",
     "text": [
      "Execution time of 'read_excel_basic': 236.37381008399825 seconds\n"
     ]
    }
   ],
   "source": [
    "@measure_time\n",
    "def read_excel_basic(file,sheet_name):\n",
    "    df = pd.read_excel(file,sheet_name=sheet_name,engine='openpyxl')\n",
    "    return df"
   ]
  },
  {
   "cell_type": "markdown",
   "metadata": {},
   "source": [
    "Openpyxl permet de lire les formules d'Excel\n",
    "Openpyxl is another excellent library for working with Excel files. It’s especially useful when you need to read and write .xlsx files, and it supports more advanced Excel features like charts, images, and even conditional formatting."
   ]
  },
  {
   "cell_type": "code",
   "execution_count": 3,
   "metadata": {},
   "outputs": [],
   "source": [
    "@measure_time\n",
    "def read_excel_openpyxl(file,sheet_name):\n",
    "    book = load_workbook(file,read_only=True)\n",
    "    writer = pd.ExcelWriter(file, engine='openpyxl') \n",
    "    return writer"
   ]
  },
  {
   "cell_type": "markdown",
   "metadata": {},
   "source": [
    "xlrd is a library for reading data and formatting information from Excel files. While it doesn’t support writing to Excel files, it’s very efficient at reading them, and it supports both .xls and .xlsx files."
   ]
  },
  {
   "cell_type": "markdown",
   "metadata": {},
   "source": [
    "Calamine is a pure Rust library to read Excel and OpenDocument Spreadsheet files."
   ]
  },
  {
   "cell_type": "code",
   "execution_count": 4,
   "metadata": {},
   "outputs": [],
   "source": [
    "@measure_time\n",
    "def read_excel_calamine(file,sheet):\n",
    "    file_path = CalamineWorkbook.from_path(file)\n",
    "    data = file_path.get_sheet_by_name(sheet).to_python()\n",
    "    return pd.DataFrame(data[1:],columns=data[0])\n",
    "    "
   ]
  },
  {
   "cell_type": "code",
   "execution_count": 6,
   "metadata": {},
   "outputs": [
    {
     "name": "stdout",
     "output_type": "stream",
     "text": [
      "Execution time of 'read_excel_openpyxl': 117.10067149999668 seconds\n"
     ]
    },
    {
     "ename": "CalamineError",
     "evalue": "Xlsx error: Zip error: invalid Zip archive: Invalid zip header",
     "output_type": "error",
     "traceback": [
      "\u001b[0;31m---------------------------------------------------------------------------\u001b[0m",
      "\u001b[0;31mCalamineError\u001b[0m                             Traceback (most recent call last)",
      "Cell \u001b[0;32mIn[6], line 3\u001b[0m\n\u001b[1;32m      1\u001b[0m \u001b[38;5;66;03m# df_basic = read_excel_basic(\"creditcard_2023.xlsx\",\"Feuille 1 - creditcard_2023\")\u001b[39;00m\n\u001b[1;32m      2\u001b[0m df_openpyxl \u001b[38;5;241m=\u001b[39m read_excel_openpyxl(\u001b[38;5;124m\"\u001b[39m\u001b[38;5;124mcreditcard_2023.xlsx\u001b[39m\u001b[38;5;124m\"\u001b[39m,\u001b[38;5;124m\"\u001b[39m\u001b[38;5;124mFeuille 1 - creditcard_2023\u001b[39m\u001b[38;5;124m\"\u001b[39m)\n\u001b[0;32m----> 3\u001b[0m df_calamine \u001b[38;5;241m=\u001b[39m \u001b[43mread_excel_calamine\u001b[49m\u001b[43m(\u001b[49m\u001b[38;5;124;43m\"\u001b[39;49m\u001b[38;5;124;43mcreditcard_2023.xlsx\u001b[39;49m\u001b[38;5;124;43m\"\u001b[39;49m\u001b[43m,\u001b[49m\u001b[38;5;124;43m\"\u001b[39;49m\u001b[38;5;124;43mFeuille 1 - creditcard_2023\u001b[39;49m\u001b[38;5;124;43m\"\u001b[39;49m\u001b[43m)\u001b[49m\n",
      "File \u001b[0;32m~/Documents/Project/Work/Dev&Projet/Python/file_reader/measure_times.py:7\u001b[0m, in \u001b[0;36mmeasure_time.<locals>.wrapper\u001b[0;34m(*args, **kwargs)\u001b[0m\n\u001b[1;32m      5\u001b[0m \u001b[38;5;28;01mdef\u001b[39;00m \u001b[38;5;21mwrapper\u001b[39m(\u001b[38;5;241m*\u001b[39margs, \u001b[38;5;241m*\u001b[39m\u001b[38;5;241m*\u001b[39mkwargs):\n\u001b[1;32m      6\u001b[0m     start_time \u001b[38;5;241m=\u001b[39m timeit\u001b[38;5;241m.\u001b[39mdefault_timer()\n\u001b[0;32m----> 7\u001b[0m     result \u001b[38;5;241m=\u001b[39m \u001b[43mfunc\u001b[49m\u001b[43m(\u001b[49m\u001b[38;5;241;43m*\u001b[39;49m\u001b[43margs\u001b[49m\u001b[43m,\u001b[49m\u001b[43m \u001b[49m\u001b[38;5;241;43m*\u001b[39;49m\u001b[38;5;241;43m*\u001b[39;49m\u001b[43mkwargs\u001b[49m\u001b[43m)\u001b[49m\n\u001b[1;32m      8\u001b[0m     end_time \u001b[38;5;241m=\u001b[39m timeit\u001b[38;5;241m.\u001b[39mdefault_timer()\n\u001b[1;32m      9\u001b[0m     execution_time \u001b[38;5;241m=\u001b[39m end_time \u001b[38;5;241m-\u001b[39m start_time\n",
      "Cell \u001b[0;32mIn[4], line 3\u001b[0m, in \u001b[0;36mread_excel_calamine\u001b[0;34m(file, sheet)\u001b[0m\n\u001b[1;32m      1\u001b[0m \u001b[38;5;129m@measure_time\u001b[39m\n\u001b[1;32m      2\u001b[0m \u001b[38;5;28;01mdef\u001b[39;00m \u001b[38;5;21mread_excel_calamine\u001b[39m(file,sheet):\n\u001b[0;32m----> 3\u001b[0m     file_path \u001b[38;5;241m=\u001b[39m \u001b[43mCalamineWorkbook\u001b[49m\u001b[38;5;241;43m.\u001b[39;49m\u001b[43mfrom_path\u001b[49m\u001b[43m(\u001b[49m\u001b[43mfile\u001b[49m\u001b[43m)\u001b[49m\n\u001b[1;32m      4\u001b[0m     data \u001b[38;5;241m=\u001b[39m file_path\u001b[38;5;241m.\u001b[39mget_sheet_by_name(sheet)\u001b[38;5;241m.\u001b[39mto_python()\n\u001b[1;32m      5\u001b[0m     \u001b[38;5;28;01mreturn\u001b[39;00m pd\u001b[38;5;241m.\u001b[39mDataFrame(data[\u001b[38;5;241m1\u001b[39m:],columns\u001b[38;5;241m=\u001b[39mdata[\u001b[38;5;241m0\u001b[39m])\n",
      "\u001b[0;31mCalamineError\u001b[0m: Xlsx error: Zip error: invalid Zip archive: Invalid zip header"
     ]
    }
   ],
   "source": [
    "# df_basic = read_excel_basic(\"creditcard_2023.xlsx\",\"Feuille 1 - creditcard_2023\")\n",
    "df_openpyxl = read_excel_openpyxl(\"creditcard_2023.xlsx\",\"Feuille 1 - creditcard_2023\")\n",
    "df_calamine = read_excel_calamine(\"creditcard_2023.xlsx\",\"Feuille 1 - creditcard_2023\")\n"
   ]
  }
 ],
 "metadata": {
  "kernelspec": {
   "display_name": "Python 3",
   "language": "python",
   "name": "python3"
  },
  "language_info": {
   "codemirror_mode": {
    "name": "ipython",
    "version": 3
   },
   "file_extension": ".py",
   "mimetype": "text/x-python",
   "name": "python",
   "nbconvert_exporter": "python",
   "pygments_lexer": "ipython3",
   "version": "3.11.7"
  }
 },
 "nbformat": 4,
 "nbformat_minor": 2
}
